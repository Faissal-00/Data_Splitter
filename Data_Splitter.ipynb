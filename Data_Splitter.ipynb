{
 "cells": [
  {
   "cell_type": "markdown",
   "id": "db71b57b",
   "metadata": {},
   "source": [
    "# Step 1: Loading data"
   ]
  },
  {
   "cell_type": "code",
   "execution_count": 1,
   "id": "a7fb1597",
   "metadata": {},
   "outputs": [],
   "source": [
    "import pandas as pd\n",
    "import numpy as np"
   ]
  },
  {
   "cell_type": "code",
   "execution_count": 2,
   "id": "923720ef",
   "metadata": {
    "scrolled": false
   },
   "outputs": [
    {
     "data": {
      "text/html": [
       "<div>\n",
       "<style scoped>\n",
       "    .dataframe tbody tr th:only-of-type {\n",
       "        vertical-align: middle;\n",
       "    }\n",
       "\n",
       "    .dataframe tbody tr th {\n",
       "        vertical-align: top;\n",
       "    }\n",
       "\n",
       "    .dataframe thead th {\n",
       "        text-align: right;\n",
       "    }\n",
       "</style>\n",
       "<table border=\"1\" class=\"dataframe\">\n",
       "  <thead>\n",
       "    <tr style=\"text-align: right;\">\n",
       "      <th></th>\n",
       "      <th>person_id</th>\n",
       "      <th>id</th>\n",
       "      <th>name</th>\n",
       "      <th>character</th>\n",
       "      <th>role</th>\n",
       "    </tr>\n",
       "  </thead>\n",
       "  <tbody>\n",
       "    <tr>\n",
       "      <th>0</th>\n",
       "      <td>14701</td>\n",
       "      <td>tm77588</td>\n",
       "      <td>Humphrey Bogart</td>\n",
       "      <td>Rick Blaine</td>\n",
       "      <td>ACTOR</td>\n",
       "    </tr>\n",
       "    <tr>\n",
       "      <th>1</th>\n",
       "      <td>14702</td>\n",
       "      <td>tm77588</td>\n",
       "      <td>Ingrid Bergman</td>\n",
       "      <td>Ilsa Lund</td>\n",
       "      <td>ACTOR</td>\n",
       "    </tr>\n",
       "    <tr>\n",
       "      <th>2</th>\n",
       "      <td>14703</td>\n",
       "      <td>tm77588</td>\n",
       "      <td>Paul Henreid</td>\n",
       "      <td>Victor Laszlo</td>\n",
       "      <td>ACTOR</td>\n",
       "    </tr>\n",
       "    <tr>\n",
       "      <th>3</th>\n",
       "      <td>14704</td>\n",
       "      <td>tm77588</td>\n",
       "      <td>Claude Rains</td>\n",
       "      <td>Captain Louis Renault</td>\n",
       "      <td>ACTOR</td>\n",
       "    </tr>\n",
       "    <tr>\n",
       "      <th>4</th>\n",
       "      <td>14705</td>\n",
       "      <td>tm77588</td>\n",
       "      <td>Conrad Veidt</td>\n",
       "      <td>Major Heinrich Strasser</td>\n",
       "      <td>ACTOR</td>\n",
       "    </tr>\n",
       "  </tbody>\n",
       "</table>\n",
       "</div>"
      ],
      "text/plain": [
       "   person_id       id             name                character   role\n",
       "0      14701  tm77588  Humphrey Bogart              Rick Blaine  ACTOR\n",
       "1      14702  tm77588   Ingrid Bergman                Ilsa Lund  ACTOR\n",
       "2      14703  tm77588     Paul Henreid            Victor Laszlo  ACTOR\n",
       "3      14704  tm77588     Claude Rains    Captain Louis Renault  ACTOR\n",
       "4      14705  tm77588     Conrad Veidt  Major Heinrich Strasser  ACTOR"
      ]
     },
     "execution_count": 2,
     "metadata": {},
     "output_type": "execute_result"
    }
   ],
   "source": [
    "df=pd.read_csv('credits.csv')\n",
    "df.head()"
   ]
  },
  {
   "cell_type": "markdown",
   "id": "f6322555",
   "metadata": {},
   "source": [
    "# Step 2: Shuffle and Split the Data"
   ]
  },
  {
   "cell_type": "code",
   "execution_count": 13,
   "id": "f7a849ce",
   "metadata": {},
   "outputs": [],
   "source": [
    "# Shuffle the data\n",
    "df_shuffled = df.sample(frac=1, random_state=42)\n",
    "\n",
    "# Calculate the number of rows for each destination\n",
    "total_rows = df_shuffled.shape[0]\n",
    "json_rows = int(0.3 * total_rows)\n",
    "database_rows = int(0.3 * total_rows)\n",
    "csv_rows = total_rows - json_rows - database_rows\n",
    "\n",
    "# Split the data into JSON, database, and CSV parts\n",
    "df_json = df_shuffled.iloc[:json_rows]\n",
    "df_database = df_shuffled.iloc[json_rows:json_rows+database_rows]\n",
    "df_csv = df_shuffled.iloc[json_rows+database_rows:]"
   ]
  },
  {
   "cell_type": "code",
   "execution_count": 14,
   "id": "141163d8",
   "metadata": {
    "scrolled": false
   },
   "outputs": [
    {
     "data": {
      "text/html": [
       "<div>\n",
       "<style scoped>\n",
       "    .dataframe tbody tr th:only-of-type {\n",
       "        vertical-align: middle;\n",
       "    }\n",
       "\n",
       "    .dataframe tbody tr th {\n",
       "        vertical-align: top;\n",
       "    }\n",
       "\n",
       "    .dataframe thead th {\n",
       "        text-align: right;\n",
       "    }\n",
       "</style>\n",
       "<table border=\"1\" class=\"dataframe\">\n",
       "  <thead>\n",
       "    <tr style=\"text-align: right;\">\n",
       "      <th></th>\n",
       "      <th>person_id</th>\n",
       "      <th>id</th>\n",
       "      <th>name</th>\n",
       "      <th>character</th>\n",
       "      <th>role</th>\n",
       "    </tr>\n",
       "  </thead>\n",
       "  <tbody>\n",
       "    <tr>\n",
       "      <th>3905</th>\n",
       "      <td>155030</td>\n",
       "      <td>tm84135</td>\n",
       "      <td>Billy Wells</td>\n",
       "      <td>Minor Role (uncredited)</td>\n",
       "      <td>ACTOR</td>\n",
       "    </tr>\n",
       "    <tr>\n",
       "      <th>99</th>\n",
       "      <td>14793</td>\n",
       "      <td>tm77588</td>\n",
       "      <td>Leo White</td>\n",
       "      <td>Emile - Waiter (uncredited)</td>\n",
       "      <td>ACTOR</td>\n",
       "    </tr>\n",
       "    <tr>\n",
       "      <th>59036</th>\n",
       "      <td>1249260</td>\n",
       "      <td>tm956831</td>\n",
       "      <td>Ryan Dillon</td>\n",
       "      <td>Elmo</td>\n",
       "      <td>ACTOR</td>\n",
       "    </tr>\n",
       "    <tr>\n",
       "      <th>31546</th>\n",
       "      <td>24461</td>\n",
       "      <td>tm79639</td>\n",
       "      <td>Ramon Frank</td>\n",
       "      <td>Kinter</td>\n",
       "      <td>ACTOR</td>\n",
       "    </tr>\n",
       "    <tr>\n",
       "      <th>62526</th>\n",
       "      <td>1954864</td>\n",
       "      <td>tm463117</td>\n",
       "      <td>Lizzy Plimpton</td>\n",
       "      <td>Softball Parent #2</td>\n",
       "      <td>ACTOR</td>\n",
       "    </tr>\n",
       "  </tbody>\n",
       "</table>\n",
       "</div>"
      ],
      "text/plain": [
       "       person_id        id            name                    character   role\n",
       "3905      155030   tm84135     Billy Wells      Minor Role (uncredited)  ACTOR\n",
       "99         14793   tm77588       Leo White  Emile - Waiter (uncredited)  ACTOR\n",
       "59036    1249260  tm956831     Ryan Dillon                         Elmo  ACTOR\n",
       "31546      24461   tm79639     Ramon Frank                       Kinter  ACTOR\n",
       "62526    1954864  tm463117  Lizzy Plimpton           Softball Parent #2  ACTOR"
      ]
     },
     "execution_count": 14,
     "metadata": {},
     "output_type": "execute_result"
    }
   ],
   "source": [
    "df_database.head()"
   ]
  },
  {
   "cell_type": "markdown",
   "id": "d1e669b8",
   "metadata": {},
   "source": [
    "# Save the JSON and CSV Data"
   ]
  },
  {
   "cell_type": "code",
   "execution_count": 15,
   "id": "014ea52e",
   "metadata": {},
   "outputs": [],
   "source": [
    "# Save the splits to their respective destinations (JSON, database, and CSV)\n",
    "df_json.to_json('data.json', orient='records', lines=True)\n",
    "df_csv.to_csv('data.csv', index=False)"
   ]
  },
  {
   "cell_type": "markdown",
   "id": "c91f5871",
   "metadata": {},
   "source": [
    "# Step 5: Transfer data to the database"
   ]
  },
  {
   "cell_type": "code",
   "execution_count": 16,
   "id": "080ab497",
   "metadata": {},
   "outputs": [],
   "source": [
    "import pyodbc"
   ]
  },
  {
   "cell_type": "code",
   "execution_count": 18,
   "id": "ff87802e",
   "metadata": {},
   "outputs": [],
   "source": [
    "# Créez la connexion\n",
    "connection = pyodbc.connect('DRIVER={SQL SERVER} ;SERVER=LAPTOP-1US3GU3J\\SQLEXPRESS;DATABASE=DBpart')\n",
    "\n",
    "# Create a cursor to execute SQL queries\n",
    "cursor = connection.cursor()"
   ]
  },
  {
   "cell_type": "code",
   "execution_count": null,
   "id": "ac6b9b11",
   "metadata": {},
   "outputs": [],
   "source": [
    "cursor.execute('''\n",
    "    CREATE TABLE partdb (\n",
    "        person_id INT,\n",
    "        id NVARCHAR(255),\n",
    "        name NVARCHAR(255),\n",
    "        character NVARCHAR(255),\n",
    "        role NVARCHAR(255),\n",
    "        PRIMARY KEY (person_id)\n",
    "    );\n",
    "''')"
   ]
  },
  {
   "cell_type": "code",
   "execution_count": null,
   "id": "a0f58003",
   "metadata": {},
   "outputs": [],
   "source": [
    "# Insert data into the dbpart table\n",
    "for row in df_database.itertuples():\n",
    "    # Check if the person_id already exists in the table\n",
    "    cursor.execute('SELECT COUNT(*) FROM partdb WHERE person_id = ?', (row.person_id,))\n",
    "    count = cursor.fetchone()[0]\n",
    "    \n",
    "    if count == 0:\n",
    "        # Insert the record if it doesn't exist\n",
    "        cursor.execute('INSERT INTO partdb (person_id, id, name, character, role) VALUES (?, ?, ?, ?, ?)', (row.person_id, row.id, row.name, row.character, row.role))\n",
    "\n",
    "connection.commit()"
   ]
  },
  {
   "cell_type": "code",
   "execution_count": null,
   "id": "bb345424",
   "metadata": {},
   "outputs": [],
   "source": [
    "# Close the connection\n",
    "cursor.close()\n",
    "connection.close()"
   ]
  }
 ],
 "metadata": {
  "kernelspec": {
   "display_name": "Python 3 (ipykernel)",
   "language": "python",
   "name": "python3"
  },
  "language_info": {
   "codemirror_mode": {
    "name": "ipython",
    "version": 3
   },
   "file_extension": ".py",
   "mimetype": "text/x-python",
   "name": "python",
   "nbconvert_exporter": "python",
   "pygments_lexer": "ipython3",
   "version": "3.11.3"
  },
  "vp": {
   "vp_config_version": "1.0.0",
   "vp_menu_width": 273,
   "vp_note_display": false,
   "vp_note_width": 0,
   "vp_position": {
    "width": 278
   },
   "vp_section_display": false,
   "vp_signature": "VisualPython"
  }
 },
 "nbformat": 4,
 "nbformat_minor": 5
}
